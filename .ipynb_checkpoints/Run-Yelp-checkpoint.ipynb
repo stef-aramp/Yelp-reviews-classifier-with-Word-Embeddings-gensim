{
 "cells": [
  {
   "cell_type": "code",
   "execution_count": 1,
   "metadata": {
    "collapsed": true
   },
   "outputs": [],
   "source": [
    "import pandas as pd\n",
    "import numpy as np"
   ]
  },
  {
   "cell_type": "code",
   "execution_count": 2,
   "metadata": {
    "collapsed": true
   },
   "outputs": [],
   "source": [
    "import warnings\n",
    "warnings.filterwarnings('ignore')"
   ]
  },
  {
   "cell_type": "code",
   "execution_count": 3,
   "metadata": {
    "collapsed": true
   },
   "outputs": [],
   "source": [
    "import spacy\n",
    "import en_core_web_sm as en\n",
    "from string import punctuation\n",
    "from spacy.lang.en.stop_words import STOP_WORDS\n",
    "nlp = en.load()"
   ]
  },
  {
   "cell_type": "code",
   "execution_count": 4,
   "metadata": {
    "collapsed": true
   },
   "outputs": [],
   "source": [
    "# load data\n",
    "df = pd.read_csv('yelp800K.csv')\n",
    "\n",
    "df = df.drop('Unnamed: 0', axis = 1)"
   ]
  },
  {
   "cell_type": "code",
   "execution_count": 5,
   "metadata": {
    "collapsed": true
   },
   "outputs": [],
   "source": [
    "# remove a couple of phrases in german (testing)\n",
    "\n",
    "df.text[119825] = re.sub(\" \\n\\nich bin ein berliner\",\"\", df.text[119825])\n",
    "df.text[18060] = re.sub(\"Alle den Torte und Kuchen schmecken gut--mein lieblings ist die Bär-Kralle!\",\"\", df.text[18060])"
   ]
  },
  {
   "cell_type": "code",
   "execution_count": 6,
   "metadata": {
    "collapsed": true
   },
   "outputs": [],
   "source": [
    "# collect reviews that are not in english\n",
    "non_eng = []\n",
    "for i in df.index:\n",
    "    if re.findall(r\"\\b(?:der|ich|und|ein|wir|bei|mit|uns|kann|nein|sie|für|nicht\\\n",
    "                       |avec|bien|qu|je|c'est|dans|não|une|au|nous|vous|bonne|les\\\n",
    "                       |tout|et|avoir|mais|pas|nada)\\b\", str(df['text'][i])) != []:\n",
    "        non_eng.append(i)"
   ]
  },
  {
   "cell_type": "code",
   "execution_count": 7,
   "metadata": {
    "collapsed": true
   },
   "outputs": [],
   "source": [
    "# keep some reviews in englih contains non-english words        \n",
    "eng = []\n",
    "for i in non_eng:\n",
    "    if df.text[i].find('with') != -1 or df.text[i].find('this') != -1:\n",
    "        eng.append(i)"
   ]
  },
  {
   "cell_type": "code",
   "execution_count": 8,
   "metadata": {},
   "outputs": [
    {
     "name": "stdout",
     "output_type": "stream",
     "text": [
      "length of droplist:  9699\n"
     ]
    }
   ],
   "source": [
    "# create a list with indices to drop\n",
    "\n",
    "drop_list = [ind for ind in non_eng if ind not in eng]\n",
    "print('length of droplist: ', len(drop_list))"
   ]
  },
  {
   "cell_type": "code",
   "execution_count": 9,
   "metadata": {
    "collapsed": true
   },
   "outputs": [],
   "source": [
    "# drop indices from drop list\n",
    "df = df.drop(df.index[drop_list]).reset_index(drop = True)"
   ]
  },
  {
   "cell_type": "code",
   "execution_count": 10,
   "metadata": {
    "collapsed": true
   },
   "outputs": [],
   "source": [
    "# drop a couple of rows that put text_tokenizer in infinite loop\n",
    "df = df.drop(df.index[[230425,478224]]).reset_index(drop = True)  "
   ]
  },
  {
   "cell_type": "code",
   "execution_count": 11,
   "metadata": {
    "collapsed": true
   },
   "outputs": [],
   "source": [
    "# delete temporary lists\n",
    "del [non_eng, eng, drop_list]"
   ]
  },
  {
   "cell_type": "code",
   "execution_count": 12,
   "metadata": {},
   "outputs": [
    {
     "name": "stdout",
     "output_type": "stream",
     "text": [
      "Do I have NaN's? :  \n",
      " stars    0\n",
      "text     0\n",
      "dtype: int64\n"
     ]
    }
   ],
   "source": [
    "# checking for missing values\n",
    "print(\"Do I have NaN's? : \", '\\n', df.isna().sum())"
   ]
  },
  {
   "cell_type": "code",
   "execution_count": null,
   "metadata": {
    "collapsed": true
   },
   "outputs": [],
   "source": []
  },
  {
   "cell_type": "code",
   "execution_count": 13,
   "metadata": {
    "collapsed": true
   },
   "outputs": [],
   "source": [
    "### CLEANING AND TOKENIZING REVIEWS\n",
    "# Remove URLS\n",
    "def remove_urls(text):\n",
    "    pattern = r'(https?:\\\\/\\\\/[a-zA-Z0-9.\\\\/\\_?=&-]+)'\n",
    "    return(re.sub(pattern, '', text))\n",
    "\n",
    "# Module for repeated characters\n",
    "from expressions import expressions\n",
    "\n",
    "# Module for Emoticons\n",
    "from emoticons import emoticons\n",
    "\n",
    "# Lemmatization\n",
    "def lemmas(text):\n",
    "    text = nlp(text)\n",
    "    text = [t.lemma_.lower().strip() if t.lemma_ != '-PRON-' else t.lower_ for t in text]\n",
    "    return(text)\n",
    "\n",
    "# Remove Stop Words\n",
    "def stopWords(text):\n",
    "    text = ' '.join([t for t in text if t not in set(list(STOP_WORDS)+\n",
    "                     list(punctuation) + [ \"--\", \"---\", \"...\", \"“\", \"”\"])])\n",
    "    return(text)\n",
    "\n",
    "# Module for Slangs & Acronyms\n",
    "from slang import slanger, slang_map\n",
    "# search every word separately\n",
    "\n",
    "def slang_in_corpus(text):\n",
    "    text = ' '.join([slanger(w) if w in list(slang_map.keys()) else w for w in text])\n",
    "    return(text)\n",
    "\n",
    "# Remove left chars, nums, symbols\n",
    "def leftChars(text):\n",
    "    text = re.sub('[^a-zA-Z]', ' ', text)\n",
    "    # remove single characters\n",
    "    text = ' '.join([w for w in text.split() if len(w)>=2])\n",
    "    return(text)\n"
   ]
  },
  {
   "cell_type": "code",
   "execution_count": 14,
   "metadata": {
    "collapsed": true
   },
   "outputs": [],
   "source": [
    "def text_normalizer(text, strip_text = False, sub_suffix = True, urls = True, expression = True, emojis = True ,\n",
    "                    lemmatization = True, stop_words = False, split = False,\n",
    "                    slangs = True, leftos = True, white_spaces = True):\n",
    "    \n",
    "    if strip_text:\n",
    "        text = text.strip().lower()\n",
    "        \n",
    "    if sub_suffix:\n",
    "        text = re.sub(\"n't\", ' not', text)\n",
    "        text = re.sub(\"'d\", ' would', text)\n",
    "        text = re.sub(\"'ll\", ' will', text)\n",
    "        text = re.sub(\"'m\", ' am', text)\n",
    "        text = re.sub(\"Im\", 'I am', text)\n",
    "        text = re.sub(\"'ve\", ' have', text)\n",
    "        text = re.sub(\"its\", 'it is', text)\n",
    "        text = re.sub(\"it's\", 'it is', text)\n",
    "        text = re.sub(\"dont\", 'do not', text)\n",
    "        text = re.sub('yucky', 'yuck', text)\n",
    "\n",
    "    if urls:\n",
    "        text = remove_urls(text)\n",
    "        \n",
    "    # use functions in a specific order for better results        \n",
    "    if expression:\n",
    "        text = expressions(text)\n",
    "        \n",
    "    # replace emojis before any symbol is gone forever\n",
    "    if emojis:\n",
    "        text = emoticons(text)\n",
    "\n",
    "    if lemmatization:\n",
    "        text = lemmas(text)\n",
    "        \n",
    "    #if stop_words:\n",
    "    #    text = stopWords(text)\n",
    "    \n",
    "    if split:\n",
    "        text = text.split()\n",
    "        \n",
    "    # replace slangs & acronyms \n",
    "    if slangs:\n",
    "        text = slang_in_corpus(text)\n",
    "        \n",
    "    if leftos:\n",
    "        text = leftChars(text)\n",
    "    \n",
    "    if white_spaces:\n",
    "        text = re.sub(' +', ' ', text)\n",
    "    \n",
    "    return(text.strip().split())"
   ]
  },
  {
   "cell_type": "code",
   "execution_count": 15,
   "metadata": {
    "collapsed": true
   },
   "outputs": [],
   "source": [
    "# create labels: stars >= 4 ->positive review , stars <=3 -> negative review\n",
    "# I want to keep my problem binary, because I want as much as possible balance \n",
    "# in my classes\n",
    "\n",
    "def label(x):\n",
    "    if x > 3:\n",
    "        val = 1\n",
    "        #print('+')\n",
    "    else:\n",
    "        val = 0\n",
    "        #print('-')\n",
    "    return(val)"
   ]
  },
  {
   "cell_type": "code",
   "execution_count": 16,
   "metadata": {
    "collapsed": true
   },
   "outputs": [],
   "source": [
    "df['labels'] = df.stars.apply(lambda row: label(row))"
   ]
  },
  {
   "cell_type": "code",
   "execution_count": 17,
   "metadata": {},
   "outputs": [
    {
     "name": "stdout",
     "output_type": "stream",
     "text": [
      "ratio of labels: \n",
      "\n",
      "1    66.247298\n",
      "0    33.752702\n",
      "Name: labels, dtype: float64\n"
     ]
    }
   ],
   "source": [
    "# ratio of labels\n",
    "print('ratio of labels: \\n\\n{}'.format(df['labels'].value_counts()/len(df)*100))"
   ]
  },
  {
   "cell_type": "code",
   "execution_count": 18,
   "metadata": {
    "collapsed": true
   },
   "outputs": [],
   "source": [
    "# apply text_normalizer function\n",
    "from tqdm import tqdm\n",
    "import pickle"
   ]
  },
  {
   "cell_type": "code",
   "execution_count": 19,
   "metadata": {
    "collapsed": true
   },
   "outputs": [],
   "source": [
    "# tokenize and clean sentences / store them in a list\n",
    "def tokenize_reviews(list_of_sentences):\n",
    "    reviews = []\n",
    "    \n",
    "    for text in tqdm(list_of_sentences):\n",
    "        txt = text_normalizer(text)\n",
    "        reviews.append(txt)\n",
    "    \n",
    "    with open(\"reviews_final.txt\", \"wb\") as fp:\n",
    "        pickle.dump(reviews, fp)\n",
    "        \n",
    "    return(reviews)"
   ]
  },
  {
   "cell_type": "code",
   "execution_count": 20,
   "metadata": {
    "collapsed": true
   },
   "outputs": [],
   "source": [
    "# create a corpus with sentences\n",
    "train_sents = list(df['text'].values)\n",
    "\n",
    "# collect tokens\n",
    "reviews = tokenize_reviews(train_sents)"
   ]
  },
  {
   "cell_type": "code",
   "execution_count": 21,
   "metadata": {
    "collapsed": true
   },
   "outputs": [],
   "source": [
    "# CHECK FOR EMPTY REVIEWS (LISTS)\n",
    "\n",
    "# count_empties = len([empty for empty in reviews if empty == []])\n",
    "\n",
    "for r in reviews:\n",
    "    if r == []:\n",
    "        r.append('unknown sentiment')"
   ]
  },
  {
   "cell_type": "code",
   "execution_count": 23,
   "metadata": {
    "collapsed": true
   },
   "outputs": [],
   "source": [
    "# Create Word Vectors to Train Word2Vec Model with Gensim\n",
    "\n",
    "import gensim\n",
    "from gensim.models import Word2Vec\n",
    "from gensim.models.phrases import Phraser, Phrases"
   ]
  },
  {
   "cell_type": "code",
   "execution_count": 24,
   "metadata": {},
   "outputs": [
    {
     "name": "stdout",
     "output_type": "stream",
     "text": [
      "Length of bigrams:  819\n"
     ]
    }
   ],
   "source": [
    "# keep some useful bigrams with two basic parameters for count and score\n",
    "bigram = Phraser(Phrases(reviews, min_count=50, threshold=120))\n",
    "print('Length of bigrams: ', len(bigram.phrasegrams))"
   ]
  },
  {
   "cell_type": "code",
   "execution_count": 25,
   "metadata": {},
   "outputs": [
    {
     "name": "stdout",
     "output_type": "stream",
     "text": [
      "[(b'acai', b'bowl'): (288, 133.27839418627522),\n",
      " (b'ace', b'hardware'): (67, 270.0926339285714),\n",
      " (b'aesthetically', b'pleasing'): (176, 3138.2994344773792),\n",
      " (b'african', b'american'): (259, 332.50865808205305),\n",
      " (b'agedashi', b'tofu'): (112, 441.2142139678855),\n",
      " (b'agua', b'fresca'): (62, 2461.1572327044023),\n",
      " (b'ah', b'maz'): (60, 554.3835302628406),\n",
      " (b'ahi', b'tuna'): (753, 294.80455504899925),\n",
      " (b'air', b'conditioner'): (514, 310.90408496351046),\n",
      " (b'air', b'conditioning'): (1009, 471.61818645999136),\n",
      " (b'air', b'freshener'): (171, 379.5059951269556),\n",
      " (b'al', b'dente'): (644, 1550.4875608842265),\n",
      " (b'al', b'fresco'): (81, 219.7764718217239),\n",
      " (b'al', b'pastor'): (675, 887.656614044739),\n",
      " (b'ala', b'carte'): (232, 1697.8704228209708),\n",
      " (b'alarm', b'clock'): (84, 136.60300059417705),\n",
      " (b'alaskan', b'king'): (103, 152.009184910175),\n",
      " (b'alcoholic', b'beverage'): (293, 287.99974713979276),\n",
      " (b'allergic', b'reaction'): (151, 571.6231022980442),\n",
      " (b'almond', b'croissant'): (249, 148.90231190657602),\n",
      " (b'aloo', b'gobi'): (75, 3044.4256846231265),\n",
      " (b'ami', b'gabi'): (193, 10690.895582329316),\n",
      " (b'amperial', b'palace'): (233, 1258.0578296284334),\n",
      " (b'amuse', b'bouche'): (267, 6231.986115448515),\n",
      " (b'amusement', b'park'): (152, 181.46769810082603),\n",
      " (b'andouille', b'sausage'): (93, 147.07817182984388),\n",
      " (b'animal', b'hospital'): (477, 141.18541007883752),\n",
      " (b'anthony', b'bourdain'): (62, 853.1773255813953),\n",
      " (b'apartment', b'complex'): (520, 128.46055569293395),\n",
      " (b'apologize', b'profusely'): (170, 293.5101734675965)]\n"
     ]
    }
   ],
   "source": [
    "# first 30 results of bigrams\n",
    "\n",
    "from itertools import islice\n",
    "list(islice(bigram.phrasegrams,30))"
   ]
  },
  {
   "cell_type": "code",
   "execution_count": 27,
   "metadata": {
    "collapsed": true
   },
   "outputs": [],
   "source": [
    "# find and replace bigrams in reviews\n",
    "reviews_bigram = []\n",
    "for review in reviews:\n",
    "    reviews_bigram.append(bigram[review])\n",
    "\n",
    "del reviews"
   ]
  },
  {
   "cell_type": "code",
   "execution_count": 28,
   "metadata": {},
   "outputs": [
    {
     "name": "stdout",
     "output_type": "stream",
     "text": [
      "0\n"
     ]
    }
   ],
   "source": [
    "len([empty for empty in reviews_bigram if empty == []])"
   ]
  },
  {
   "cell_type": "code",
   "execution_count": 29,
   "metadata": {
    "collapsed": true
   },
   "outputs": [],
   "source": [
    "### Word2Vec Model / 100 dimensions word vecotrs space\n",
    "### Skip Gram with 10 contextual words and 5 words for negative sampling \n",
    "\n",
    "model = Word2Vec(reviews_bigram, size=100, window=10, min_count=5, workers=12, sg=1, negative=5)\n",
    "\n",
    "\n",
    "# model.save('yelp_bigram_model.w2v')\n",
    "model = gensim.models.Word2Vec.load('yelp_bigram_model.w2v')"
   ]
  },
  {
   "cell_type": "code",
   "execution_count": 30,
   "metadata": {},
   "outputs": [
    {
     "name": "stdout",
     "output_type": "stream",
     "text": [
      "most similars words to 'steak' :\n"
     ]
    },
    {
     "data": {
      "text/plain": [
       "[('filet', 0.8814945816993713),\n",
       " ('sirloin', 0.8720827102661133),\n",
       " ('ribeye', 0.8704764246940613),\n",
       " ('filet_mignon', 0.8540039658546448),\n",
       " ('porterhouse', 0.8264988660812378),\n",
       " ('medium_rare', 0.8079538941383362),\n",
       " ('prime_rib', 0.7982861995697021),\n",
       " ('fillet_mignon', 0.7816898226737976),\n",
       " ('mash_potato', 0.7646493315696716),\n",
       " ('petite_filet', 0.7608823776245117)]"
      ]
     },
     "execution_count": 30,
     "metadata": {},
     "output_type": "execute_result"
    }
   ],
   "source": [
    "# Examine if model is trained well\n",
    "print(\"most similars words to 'steak' :\")\n",
    "model.most_similar('steak')"
   ]
  },
  {
   "cell_type": "code",
   "execution_count": 31,
   "metadata": {},
   "outputs": [
    {
     "data": {
      "text/plain": [
       "[('queen', 0.8872774839401245),\n",
       " ('bed', 0.8189544081687927),\n",
       " ('suite', 0.7959484457969666),\n",
       " ('deluxe', 0.7938448786735535),\n",
       " ('sheba', 0.7845970392227173),\n",
       " ('nite', 0.7769308090209961),\n",
       " ('tower', 0.7676618099212646),\n",
       " ('hampton', 0.7657776474952698),\n",
       " ('pullout', 0.7633996605873108),\n",
       " ('queens', 0.7628751993179321)]"
      ]
     },
     "execution_count": 31,
     "metadata": {},
     "output_type": "execute_result"
    }
   ],
   "source": [
    "# king + woman - man = queen (?)\n",
    "model.wv.most_similar_cosmul(positive=['woman', 'king'], negative=['man'])"
   ]
  },
  {
   "cell_type": "code",
   "execution_count": 32,
   "metadata": {},
   "outputs": [
    {
     "data": {
      "text/plain": [
       "[('mother', 0.9942769408226013),\n",
       " ('sister', 0.911646842956543),\n",
       " ('aunt', 0.9060262441635132),\n",
       " ('mom', 0.8994179964065552),\n",
       " ('wife', 0.8979463577270508),\n",
       " ('law', 0.8909907341003418),\n",
       " ('dad', 0.8828234076499939),\n",
       " ('parent', 0.8788992166519165),\n",
       " ('niece', 0.8726920485496521),\n",
       " ('granddaughter', 0.8715932369232178)]"
      ]
     },
     "execution_count": 32,
     "metadata": {},
     "output_type": "execute_result"
    }
   ],
   "source": [
    "# father + daughter - son = mother (?)\n",
    "model.wv.most_similar_cosmul(positive=['daughter', 'father'], negative=['son'])"
   ]
  },
  {
   "cell_type": "code",
   "execution_count": 33,
   "metadata": {},
   "outputs": [
    {
     "name": "stdout",
     "output_type": "stream",
     "text": [
      "length of word vectors: 46107\n"
     ]
    }
   ],
   "source": [
    "# collect model's word vectors\n",
    "word_vectors = model.wv\n",
    "print('length of word vectors: {}'.format(len(word_vectors.vocab)))"
   ]
  },
  {
   "cell_type": "code",
   "execution_count": null,
   "metadata": {
    "collapsed": true
   },
   "outputs": [],
   "source": []
  },
  {
   "cell_type": "code",
   "execution_count": 34,
   "metadata": {},
   "outputs": [
    {
     "data": {
      "image/png": "[encoded data removed]",
      "text/plain": [
       "<Figure size 1296x576 with 1 Axes>"
      ]
     },
     "metadata": {},
     "output_type": "display_data"
    }
   ],
   "source": [
    "### INITIALIZE THE EMBEDDINGS\n",
    "\n",
    "###########\n",
    "# I need a vocabulary equal to the number of word vectors and a fixed length\n",
    "# of reviews sequences. What is the most suitable value for sequence length ?\n",
    "# Few lines of code analyse length of reviews \n",
    "\n",
    "import matplotlib.pyplot as plt\n",
    "import seaborn as sns\n",
    "\n",
    "lens = [len(sen) for sen in reviews_bigram]\n",
    "\n",
    "plt.figure(figsize=(18,8))\n",
    "sns.boxplot(lens)\n",
    "plt.title('Length of reviews', fontsize = 15)\n",
    "plt.show()\n"
   ]
  },
  {
   "cell_type": "code",
   "execution_count": 35,
   "metadata": {},
   "outputs": [
    {
     "name": "stdout",
     "output_type": "stream",
     "text": [
      "Q1, Median, Q3: [ 45.  81. 145.] and Mean: 113.37970474101569\n",
      "62.76 %\n",
      "9.87 %\n"
     ]
    }
   ],
   "source": [
    "print('Q1, Median, Q3:', np.percentile(lens, [25,50,75]), 'and Mean:', np.mean(lens))\n",
    "\n",
    "# proportion of reviews with number of words under or equal to the mean\n",
    "print(round(len([i for i in lens if i <108])/len(lens)*100,2),'%')\n",
    "\n",
    "# proportion between mean and Q3\n",
    "print(round(len([i for i in lens if (i>108 and i <138)])/len(lens)*100,2),'%')\n",
    "\n",
    "del lens"
   ]
  },
  {
   "cell_type": "code",
   "execution_count": null,
   "metadata": {
    "collapsed": true
   },
   "outputs": [],
   "source": [
    "# SELECT MAX SEQ LENGTH 100 "
   ]
  },
  {
   "cell_type": "code",
   "execution_count": 36,
   "metadata": {
    "collapsed": true
   },
   "outputs": [],
   "source": [
    "### Select max number of words equal to numbers of vectors and max sequence length\n",
    "\n",
    "max_n_words = len(word_vectors.vocab) #40549 vectors\n",
    "max_sequence_len = 100\n",
    "\n",
    "# update vocabulary\n",
    "from collections import Counter\n",
    "vocab = Counter()\n",
    "\n",
    "vocab.update([word for sent in reviews_bigram for word in sent])"
   ]
  },
  {
   "cell_type": "code",
   "execution_count": null,
   "metadata": {
    "collapsed": true
   },
   "outputs": [],
   "source": []
  },
  {
   "cell_type": "code",
   "execution_count": 37,
   "metadata": {},
   "outputs": [
    {
     "name": "stderr",
     "output_type": "stream",
     "text": [
      "Using TensorFlow backend.\n"
     ]
    }
   ],
   "source": [
    "import keras"
   ]
  },
  {
   "cell_type": "code",
   "execution_count": 38,
   "metadata": {
    "collapsed": true
   },
   "outputs": [],
   "source": [
    "import keras.backend as K"
   ]
  },
  {
   "cell_type": "code",
   "execution_count": 39,
   "metadata": {
    "collapsed": true
   },
   "outputs": [],
   "source": [
    "from keras.preprocessing.sequence import pad_sequences"
   ]
  },
  {
   "cell_type": "code",
   "execution_count": 40,
   "metadata": {
    "collapsed": true
   },
   "outputs": [],
   "source": [
    "from keras.layers import (Dense, Input, LSTM, Embedding, Dropout, SpatialDropout1D, GlobalMaxPool1D, Conv1D,\n",
    "                          concatenate)\n",
    "from keras.layers.wrappers import Bidirectional\n",
    "from keras.models import Model, Sequential\n",
    "from keras.optimizers import Adam"
   ]
  },
  {
   "cell_type": "code",
   "execution_count": 41,
   "metadata": {
    "collapsed": true
   },
   "outputs": [],
   "source": [
    "# give an index to each word starting from most frequent\n",
    "\n",
    "word_index = {t[0]: i+1 for i,t in enumerate(vocab.most_common(max_n_words))}"
   ]
  },
  {
   "cell_type": "code",
   "execution_count": 42,
   "metadata": {
    "collapsed": true
   },
   "outputs": [],
   "source": [
    "# shift indices by 2\n",
    "# use 0 as PAD, 1 as start character and 2 equals to unknown word (not in vocabulary) \n",
    "\n",
    "word_index = {k:(v+2) for k,v in word_index.items()}\n",
    "word_index['PAD'] = 0\n",
    "word_index['START'] = 1\n",
    "word_index['Unknown'] = 2"
   ]
  },
  {
   "cell_type": "code",
   "execution_count": 43,
   "metadata": {
    "collapsed": true
   },
   "outputs": [],
   "source": [
    "sequences = [[word_index.get(t,0) for t in review] for review in reviews_bigram]"
   ]
  },
  {
   "cell_type": "code",
   "execution_count": 44,
   "metadata": {
    "collapsed": true
   },
   "outputs": [],
   "source": [
    "labels = df['labels'].values"
   ]
  },
  {
   "cell_type": "code",
   "execution_count": 45,
   "metadata": {
    "collapsed": true
   },
   "outputs": [],
   "source": [
    "from sklearn.model_selection import train_test_split"
   ]
  },
  {
   "cell_type": "code",
   "execution_count": 46,
   "metadata": {
    "collapsed": true
   },
   "outputs": [],
   "source": [
    "x_train, x_test, y_train, y_test = train_test_split(sequences, labels, test_size = 0.2, random_state = 42)"
   ]
  },
  {
   "cell_type": "code",
   "execution_count": 47,
   "metadata": {
    "collapsed": true
   },
   "outputs": [],
   "source": [
    "# padding and truncating sequences\n",
    "x_train = pad_sequences(sequences=x_train, maxlen=max_sequence_len, padding='pre', truncating='post')"
   ]
  },
  {
   "cell_type": "code",
   "execution_count": 48,
   "metadata": {
    "collapsed": true
   },
   "outputs": [],
   "source": [
    "x_test = pad_sequences(sequences=x_test, maxlen= max_sequence_len, padding='pre', truncating='post')"
   ]
  },
  {
   "cell_type": "code",
   "execution_count": 49,
   "metadata": {},
   "outputs": [
    {
     "name": "stdout",
     "output_type": "stream",
     "text": [
      "(474160, 118540, 474160, 118540)\n"
     ]
    }
   ],
   "source": [
    "len(x_train), len(x_test), len(y_train), len(y_test)"
   ]
  },
  {
   "cell_type": "code",
   "execution_count": 51,
   "metadata": {},
   "outputs": [
    {
     "name": "stdout",
     "output_type": "stream",
     "text": [
      "(Counter({0: 235383, 1: 238777}), Counter({0: 58761, 1: 59779}))\n"
     ]
    }
   ],
   "source": [
    "# classes for training / validation\n",
    "Counter(y_train), Counter(y_test)"
   ]
  },
  {
   "cell_type": "code",
   "execution_count": 52,
   "metadata": {
    "collapsed": true
   },
   "outputs": [],
   "source": [
    "del [reviews_bigram, labels, sequences]"
   ]
  },
  {
   "cell_type": "code",
   "execution_count": null,
   "metadata": {
    "collapsed": true
   },
   "outputs": [],
   "source": [
    "### create the embedding matrix"
   ]
  },
  {
   "cell_type": "code",
   "execution_count": 53,
   "metadata": {
    "collapsed": true
   },
   "outputs": [],
   "source": [
    "embed_size = 100 # size of embedding layer\n",
    "\n",
    "n_words = min(max_n_words, len(word_vectors.vocab))\n",
    "n_words"
   ]
  },
  {
   "cell_type": "code",
   "execution_count": 54,
   "metadata": {
    "collapsed": true
   },
   "outputs": [],
   "source": [
    "# initialize weights\n",
    "word_vectors_mtrx = (np.random.rand(n_words+3, embed_size) - 0.5)/5.0\n",
    "\n",
    "for word, ind in word_index.items():\n",
    "    if ind >= max_n_words:\n",
    "        continue\n",
    "    try:\n",
    "        embedding_vector = word_vectors[word]\n",
    "        # words not found in embedding index will be all-zeros.\n",
    "        word_vectors_mtrx[i] = embedding_vector\n",
    "    except:\n",
    "        pass"
   ]
  },
  {
   "cell_type": "code",
   "execution_count": 55,
   "metadata": {
    "collapsed": true
   },
   "outputs": [],
   "source": [
    "#import gc\n",
    "#gc.collect()"
   ]
  },
  {
   "cell_type": "code",
   "execution_count": 56,
   "metadata": {
    "collapsed": true
   },
   "outputs": [],
   "source": [
    "from keras.callbacks import ModelCheckpoint\n",
    "import os"
   ]
  },
  {
   "cell_type": "code",
   "execution_count": 57,
   "metadata": {
    "collapsed": true
   },
   "outputs": [],
   "source": [
    "# function for compiling anfd fitting / keep a record of weights\n",
    "def compile_results(model, name, n_epochs, batch, xtr, ytr, xtst, ytst):\n",
    "    # create a callback to store weights\n",
    "    output_dir = 'model_output/' + name\n",
    "    modelcheckpoint = ModelCheckpoint(filepath = output_dir + \"/weights.{epoch:02d}.hdf5\")\n",
    "    \n",
    "    if not os.path.exists(output_dir):\n",
    "        os.makedirs(output_dir)\n",
    "    \n",
    "    model.compile(loss = 'binary_crossentropy',\n",
    "                  optimizer = Adam(lr = 0.001),\n",
    "                  metrics = ['accuracy'])\n",
    "    \n",
    "    results = model.fit(xtr, ytr, epochs = n_epochs, verbose = 1, batch_size = batch,\n",
    "                        validation_split = 0.2, validation_data = (xtst, ytst), shuffle = True,\n",
    "                        callbacks = [modelcheckpoint])\n",
    "    \n",
    "    return(results)"
   ]
  },
  {
   "cell_type": "markdown",
   "metadata": {},
   "source": [
    "### LSTM"
   ]
  },
  {
   "cell_type": "code",
   "execution_count": 120,
   "metadata": {},
   "outputs": [
    {
     "name": "stdout",
     "output_type": "stream",
     "text": [
      "_________________________________________________________________\n",
      "Layer (type)                 Output Shape              Param #   \n",
      "=================================================================\n",
      "embedding_2 (Embedding)      (None, 100, 100)          4611000   \n",
      "_________________________________________________________________\n",
      "spatial_dropout1d_2 (Spatial (None, 100, 100)          0         \n",
      "_________________________________________________________________\n",
      "lstm_1 (LSTM)                (None, 256)               365568    \n",
      "_________________________________________________________________\n",
      "dense_3 (Dense)              (None, 1)                 257       \n",
      "=================================================================\n",
      "Total params: 4,976,825\n",
      "Trainable params: 365,825\n",
      "Non-trainable params: 4,611,000\n",
      "_________________________________________________________________\n"
     ]
    }
   ],
   "source": [
    "#K.clear_session()\n",
    "\n",
    "model_1 = Sequential()\n",
    "model_1.add(Embedding(n_words+3, embed_size, weights = [word_vectors_mtrx], input_length=max_sequence_len, trainable = False))\n",
    "model_1.add(SpatialDropout1D(0.2))\n",
    "model_1.add(LSTM(256, dropout=0.2, recurrent_dropout=0.2))\n",
    "\n",
    "model_1.add(Dense(1, activation='sigmoid'))\n",
    "\n",
    "model_1.summary()"
   ]
  },
  {
   "cell_type": "code",
   "execution_count": 85,
   "metadata": {},
   "outputs": [
    {
     "name": "stdout",
     "output_type": "stream",
     "text": [
      "Train on 474160 samples, validate on 118540 samples\n",
      "Epoch 1/10\n",
      "474160/474160 [==============================] - 10532s 22ms/step - loss: 0.5774 - acc: 0.6970 - val_loss: 0.4837 - val_acc: 0.7682\n",
      "Epoch 2/10\n",
      "474160/474160 [==============================] - 10378s 22ms/step - loss: 0.4566 - acc: 0.7847 - val_loss: 0.4056 - val_acc: 0.8087\n",
      "Epoch 3/10\n",
      "474160/474160 [==============================] - 10367s 22ms/step - loss: 0.3983 - acc: 0.8170 - val_loss: 0.3478 - val_acc: 0.8426\n",
      "Epoch 4/10\n",
      "474160/474160 [==============================] - 10372s 22ms/step - loss: 0.3886 - acc: 0.8209 - val_loss: 0.3781 - val_acc: 0.8324\n",
      "Epoch 5/10\n",
      "474160/474160 [==============================] - 10390s 22ms/step - loss: 0.4360 - acc: 0.7901 - val_loss: 0.3515 - val_acc: 0.8432\n",
      "Epoch 6/10\n",
      "474160/474160 [==============================] - 10358s 22ms/step - loss: 0.3636 - acc: 0.8357 - val_loss: 0.3252 - val_acc: 0.8545\n",
      "Epoch 7/10\n",
      "474160/474160 [==============================] - 10358s 22ms/step - loss: 0.3394 - acc: 0.8486 - val_loss: 0.3075 - val_acc: 0.8644\n",
      "Epoch 8/10\n",
      "474160/474160 [==============================] - 10380s 22ms/step - loss: 0.3247 - acc: 0.8557 - val_loss: 0.3037 - val_acc: 0.8658\n",
      "Epoch 9/10\n",
      "474160/474160 [==============================] - 10430s 22ms/step - loss: 0.3116 - acc: 0.8624 - val_loss: 0.2897 - val_acc: 0.8720\n",
      "Epoch 10/10\n",
      "474160/474160 [==============================] - 10366s 22ms/step - loss: 0.3016 - acc: 0.8678 - val_loss: 0.2836 - val_acc: 0.8764\n"
     ]
    }
   ],
   "source": [
    "results_LSTM = compile_results(model_1, 'LSTM', 10, 128, x_train, y_train, x_test, y_test)"
   ]
  },
  {
   "cell_type": "markdown",
   "metadata": {},
   "source": [
    "### Bidirectional LSTM"
   ]
  },
  {
   "cell_type": "code",
   "execution_count": 123,
   "metadata": {},
   "outputs": [
    {
     "name": "stdout",
     "output_type": "stream",
     "text": [
      "_________________________________________________________________\n",
      "Layer (type)                 Output Shape              Param #   \n",
      "=================================================================\n",
      "embedding_3 (Embedding)      (None, 100, 100)          4611000   \n",
      "_________________________________________________________________\n",
      "spatial_dropout1d_3 (Spatial (None, 100, 100)          0         \n",
      "_________________________________________________________________\n",
      "bidirectional_1 (Bidirection (None, 512)               731136    \n",
      "_________________________________________________________________\n",
      "dense_4 (Dense)              (None, 1)                 513       \n",
      "=================================================================\n",
      "Total params: 5,342,649\n",
      "Trainable params: 731,649\n",
      "Non-trainable params: 4,611,000\n",
      "_________________________________________________________________\n"
     ]
    }
   ],
   "source": [
    "#K.clear_session()\n",
    "\n",
    "model_2 = Sequential()\n",
    "model_2.add(Embedding(n_words+3, embed_size, weights = [word_vectors_mtrx], input_length=max_sequence_len, trainable = False))\n",
    "model_2.add(SpatialDropout1D(0.2))\n",
    "model_2.add(Bidirectional(LSTM(256, dropout=0.2)))\n",
    "\n",
    "model_2.add(Dense(1, activation='sigmoid'))\n",
    "\n",
    "model_2.summary()"
   ]
  },
  {
   "cell_type": "code",
   "execution_count": 87,
   "metadata": {},
   "outputs": [
    {
     "name": "stdout",
     "output_type": "stream",
     "text": [
      "Train on 474160 samples, validate on 118540 samples\n",
      "Epoch 1/10\n",
      "474160/474160 [==============================] - 19492s 41ms/step - loss: 0.5271 - acc: 0.7323 - val_loss: 0.4039 - val_acc: 0.8144\n",
      "Epoch 2/10\n",
      "474160/474160 [==============================] - 19471s 41ms/step - loss: 0.4551 - acc: 0.7811 - val_loss: 0.3834 - val_acc: 0.8255\n",
      "Epoch 3/10\n",
      "474160/474160 [==============================] - 19441s 41ms/step - loss: 0.3899 - acc: 0.8210 - val_loss: 0.3479 - val_acc: 0.8427\n",
      "Epoch 4/10\n",
      "474160/474160 [==============================] - 19490s 41ms/step - loss: 0.3588 - acc: 0.8376 - val_loss: 0.3296 - val_acc: 0.8533\n",
      "Epoch 5/10\n",
      "474160/474160 [==============================] - 21595s 46ms/step - loss: 0.3348 - acc: 0.8504 - val_loss: 0.3186 - val_acc: 0.8593\n",
      "Epoch 6/10\n",
      "474160/474160 [==============================] - 20229s 43ms/step - loss: 0.3159 - acc: 0.8603 - val_loss: 0.3011 - val_acc: 0.8666\n",
      "Epoch 7/10\n",
      "474160/474160 [==============================] - 20889s 44ms/step - loss: 0.3022 - acc: 0.8668 - val_loss: 0.2904 - val_acc: 0.8722\n",
      "Epoch 8/10\n",
      "474160/474160 [==============================] - 22687s 48ms/step - loss: 0.2913 - acc: 0.8724 - val_loss: 0.2815 - val_acc: 0.8772\n",
      "Epoch 9/10\n",
      "474160/474160 [==============================] - 25986s 55ms/step - loss: 0.2823 - acc: 0.8770 - val_loss: 0.2762 - val_acc: 0.8795\n",
      "Epoch 10/10\n",
      "474160/474160 [==============================] - 19218s 41ms/step - loss: 0.2739 - acc: 0.8810 - val_loss: 0.2722 - val_acc: 0.8814\n"
     ]
    }
   ],
   "source": [
    "results_BiLSTM = compile_results(model_2, 'BiLSTM', 10, 128, x_train, y_train, x_test, y_test)"
   ]
  },
  {
   "cell_type": "markdown",
   "metadata": {},
   "source": [
    "### CNN"
   ]
  },
  {
   "cell_type": "code",
   "execution_count": 124,
   "metadata": {},
   "outputs": [
    {
     "name": "stdout",
     "output_type": "stream",
     "text": [
      "_________________________________________________________________\n",
      "Layer (type)                 Output Shape              Param #   \n",
      "=================================================================\n",
      "embedding_4 (Embedding)      (None, 100, 100)          4611000   \n",
      "_________________________________________________________________\n",
      "spatial_dropout1d_4 (Spatial (None, 100, 100)          0         \n",
      "_________________________________________________________________\n",
      "conv1d_2 (Conv1D)            (None, 98, 256)           77056     \n",
      "_________________________________________________________________\n",
      "global_max_pooling1d_2 (Glob (None, 256)               0         \n",
      "_________________________________________________________________\n",
      "dense_5 (Dense)              (None, 256)               65792     \n",
      "_________________________________________________________________\n",
      "dropout_2 (Dropout)          (None, 256)               0         \n",
      "_________________________________________________________________\n",
      "dense_6 (Dense)              (None, 1)                 257       \n",
      "=================================================================\n",
      "Total params: 4,754,105\n",
      "Trainable params: 143,105\n",
      "Non-trainable params: 4,611,000\n",
      "_________________________________________________________________\n"
     ]
    }
   ],
   "source": [
    "#K.clear_session()\n",
    "\n",
    "model_3 = Sequential()\n",
    "model_3.add(Embedding(n_words+3, embed_size, weights = [word_vectors_mtrx], input_length=max_sequence_len, trainable = False))\n",
    "model_3.add(SpatialDropout1D(0.2))\n",
    "model_3.add(Conv1D(256, 3, activation='relu'))\n",
    "model_3.add(GlobalMaxPool1D())\n",
    "model_3.add(Dense(256, activation='relu'))\n",
    "model_3.add(Dropout(0.2))\n",
    "\n",
    "model_3.add(Dense(1, activation='sigmoid'))\n",
    "\n",
    "model_3.summary()"
   ]
  },
  {
   "cell_type": "code",
   "execution_count": 89,
   "metadata": {},
   "outputs": [
    {
     "name": "stdout",
     "output_type": "stream",
     "text": [
      "Train on 474160 samples, validate on 118540 samples\n",
      "Epoch 1/10\n",
      "474160/474160 [==============================] - 2248s 5ms/step - loss: 0.3610 - acc: 0.8367 - val_loss: 0.3065 - val_acc: 0.8663\n",
      "Epoch 2/10\n",
      "474160/474160 [==============================] - 2248s 5ms/step - loss: 0.3084 - acc: 0.8657 - val_loss: 0.2945 - val_acc: 0.8719\n",
      "Epoch 3/10\n",
      "474160/474160 [==============================] - 2242s 5ms/step - loss: 0.2950 - acc: 0.8717 - val_loss: 0.2905 - val_acc: 0.8744\n",
      "Epoch 4/10\n",
      "474160/474160 [==============================] - 2273s 5ms/step - loss: 0.2874 - acc: 0.8752 - val_loss: 0.2916 - val_acc: 0.8736\n",
      "Epoch 5/10\n",
      "474160/474160 [==============================] - 2360s 5ms/step - loss: 0.2819 - acc: 0.8777 - val_loss: 0.2882 - val_acc: 0.8749\n",
      "Epoch 6/10\n",
      "474160/474160 [==============================] - 2624s 6ms/step - loss: 0.2773 - acc: 0.8801 - val_loss: 0.2798 - val_acc: 0.8783\n",
      "Epoch 7/10\n",
      "474160/474160 [==============================] - 2536s 5ms/step - loss: 0.2742 - acc: 0.8814 - val_loss: 0.2809 - val_acc: 0.8784\n",
      "Epoch 8/10\n",
      "474160/474160 [==============================] - 2416s 5ms/step - loss: 0.2711 - acc: 0.8828 - val_loss: 0.2817 - val_acc: 0.8760\n",
      "Epoch 9/10\n",
      "474160/474160 [==============================] - 2684s 6ms/step - loss: 0.2681 - acc: 0.8844 - val_loss: 0.2903 - val_acc: 0.8757\n",
      "Epoch 10/10\n",
      "474160/474160 [==============================] - 2366s 5ms/step - loss: 0.2662 - acc: 0.8853 - val_loss: 0.2872 - val_acc: 0.8757\n"
     ]
    }
   ],
   "source": [
    "results_CNN = compile_results(model_3, 'CNN', 10, 128, x_train, y_train, x_test, y_test)"
   ]
  },
  {
   "cell_type": "code",
   "execution_count": null,
   "metadata": {
    "collapsed": true
   },
   "outputs": [],
   "source": []
  },
  {
   "cell_type": "code",
   "execution_count": 90,
   "metadata": {},
   "outputs": [
    {
     "name": "stdout",
     "output_type": "stream",
     "text": [
      "the lower loss value is: 0.28356284738009346 , and its epoch is: 10\n"
     ]
    }
   ],
   "source": [
    "# LSTM results\n",
    "print('the lower loss value is: {}'.format(min(results_LSTM.history['val_loss'])),\n",
    "      ', and its epoch is: {}'.format(results_LSTM.history['val_loss'].index(min(results_LSTM.history['val_loss']))+1))"
   ]
  },
  {
   "cell_type": "code",
   "execution_count": 91,
   "metadata": {},
   "outputs": [
    {
     "name": "stdout",
     "output_type": "stream",
     "text": [
      "the lower loss value is: 0.27218428763386693 , and its epoch is: 10\n"
     ]
    }
   ],
   "source": [
    "# BiLSTM results\n",
    "print('the lower loss value is: {}'.format(min(results_BiLSTM.history['val_loss'])),\n",
    "      ', and its epoch is: {}'.format(results_BiLSTM.history['val_loss'].index(min(results_BiLSTM.history['val_loss']))+1))"
   ]
  },
  {
   "cell_type": "code",
   "execution_count": 92,
   "metadata": {},
   "outputs": [
    {
     "name": "stdout",
     "output_type": "stream",
     "text": [
      "the lower loss value is: 0.27983594422338787 , and its epoch is: 6\n"
     ]
    }
   ],
   "source": [
    "# CNN results\n",
    "print('the lower loss value is: {}'.format(min(results_CNN.history['val_loss'])),\n",
    "      ', and its epoch is: {}'.format(results_CNN.history['val_loss'].index(min(results_CNN.history['val_loss']))+1))"
   ]
  },
  {
   "cell_type": "code",
   "execution_count": 121,
   "metadata": {
    "collapsed": true
   },
   "outputs": [],
   "source": [
    "model_1.load_weights(\"model_output/LSTM/weights.10.hdf5\")"
   ]
  },
  {
   "cell_type": "code",
   "execution_count": 122,
   "metadata": {
    "collapsed": true
   },
   "outputs": [],
   "source": [
    "y_preds1 = model_1.predict_proba(x_test)"
   ]
  },
  {
   "cell_type": "code",
   "execution_count": 125,
   "metadata": {
    "collapsed": true
   },
   "outputs": [],
   "source": [
    "model_2.load_weights(\"model_output/BiLSTM/weights.10.hdf5\")"
   ]
  },
  {
   "cell_type": "code",
   "execution_count": 126,
   "metadata": {
    "collapsed": true
   },
   "outputs": [],
   "source": [
    "y_preds2 = model_2.predict_proba(x_test)"
   ]
  },
  {
   "cell_type": "code",
   "execution_count": 112,
   "metadata": {
    "collapsed": true
   },
   "outputs": [],
   "source": [
    "model_3.load_weights(\"model_output/CNN/weights.06.hdf5\")"
   ]
  },
  {
   "cell_type": "code",
   "execution_count": 113,
   "metadata": {
    "collapsed": true
   },
   "outputs": [],
   "source": [
    "y_preds3 = model_3.predict_proba(x_test)"
   ]
  },
  {
   "cell_type": "code",
   "execution_count": 127,
   "metadata": {
    "collapsed": true
   },
   "outputs": [],
   "source": [
    "from sklearn.metrics import roc_auc_score, roc_curve\n",
    "\n",
    "def area_under_curve(ytest, preds):\n",
    "        roc= np.array([])\n",
    "        fprs = []\n",
    "        tprs = []\n",
    "        for pred in preds:\n",
    "            roc = np.append(roc, round(roc_auc_score(ytest, pred)*100,2))\n",
    "            fpr, tpr, threshold = roc_curve(ytest, pred)\n",
    "            fprs.append(fpr)\n",
    "            tprs.append(tpr)\n",
    "        \n",
    "        plt.figure(figsize=(10,10))\n",
    "        plt.plot(fprs[0], tprs[0], 'b', label = 'LSTM AUC = {}'.format(roc[0]))\n",
    "        plt.plot(fprs[1], tprs[1], 'g', label = 'BiLSTM AUC = {}'.format(roc[1]))\n",
    "        plt.plot(fprs[2], tprs[2], 'c', label = 'CNN AUC = {}'.format(roc[2]))\n",
    "        plt.legend(loc = 'lower right')\n",
    "        plt.plot([0, 1], [0, 1],'r--')\n",
    "        plt.xlim([0, 1])\n",
    "        plt.ylim([0, 1])\n",
    "        plt.ylabel('True Positive Rate', fontsize = 12)\n",
    "        plt.xlabel('False Positive Rate', fontsize = 12)\n",
    "        plt.title('Receiver Operating Characteristic', fontsize = 14)\n",
    "\n",
    "        return(plt.show())"
   ]
  },
  {
   "cell_type": "code",
   "execution_count": 128,
   "metadata": {},
   "outputs": [
    {
     "data": {
      "image/png": "[encoded data removed]",
      "text/plain": [
       "<Figure size 720x720 with 1 Axes>"
      ]
     },
     "metadata": {},
     "output_type": "display_data"
    }
   ],
   "source": [
    "area_under_curve(y_test, [y_preds1, y_preds2, y_preds3])"
   ]
  },
  {
   "cell_type": "code",
   "execution_count": 129,
   "metadata": {},
   "outputs": [
    {
     "name": "stdout",
     "output_type": "stream",
     "text": [
      " f1 score for LSTM model:  0.880235997842679 \n",
      " f1 score for Bi-LSTM model:  0.8806893916882454\n"
     ]
    }
   ],
   "source": [
    "from sklearn.metrics import f1_score\n",
    "\n",
    "lstm_score = f1_score(y_test, model_1.predict_classes(x_test))\n",
    "BiLSTM_score = f1_score(y_test, model_2.predict_classes(x_test))\n",
    "print('f1 score for LSTM model: {}'.format(lstm_score),'\\n',\n",
    "      'f1 score for Bi-LSTM model: {}'.format(BiLSTM_score))"
   ]
  },
  {
   "cell_type": "code",
   "execution_count": 151,
   "metadata": {},
   "outputs": [
    {
     "data": {
      "image/png": "[encoded data removed]",
      "text/plain": [
       "<Figure size 720x720 with 1 Axes>"
      ]
     },
     "metadata": {},
     "output_type": "display_data"
    }
   ],
   "source": [
    "# Validation Accuracy\n",
    "plt.figure(2, figsize=(10,10))\n",
    "plt.plot(results_LSTM.history['val_acc'])\n",
    "plt.plot(results_BiLSTM.history['val_acc'])\n",
    "plt.plot(results_CNN.history['val_acc'])\n",
    "#plt.plot(results4.history['val_acc'])\n",
    "plt.xlabel('epochs', fontsize =13)\n",
    "plt.ylabel('validation accuracy', fontsize =13)\n",
    "plt.legend(['LSTM', 'BiLSTM', 'CNN'])\n",
    "plt.show()"
   ]
  },
  {
   "cell_type": "code",
   "execution_count": 152,
   "metadata": {},
   "outputs": [
    {
     "data": {
      "image/png": "[encoded data removed]",
      "text/plain": [
       "<Figure size 720x720 with 1 Axes>"
      ]
     },
     "metadata": {},
     "output_type": "display_data"
    }
   ],
   "source": [
    "# Acurracy\n",
    "plt.figure(3, figsize=(10,10))\n",
    "plt.plot(results_LSTM.history['acc'])\n",
    "plt.plot(results_BiLSTM.history['acc'])\n",
    "plt.plot(results_CNN.history['acc'])\n",
    "plt.xlabel('epochs', fontsize =13)\n",
    "plt.ylabel('accuracy', fontsize =13)\n",
    "plt.legend(['LSTM', 'BiLSTM', 'CNN'])\n",
    "plt.show()"
   ]
  },
  {
   "cell_type": "code",
   "execution_count": 153,
   "metadata": {},
   "outputs": [
    {
     "data": {
      "image/png": "[encoded data removed]",
      "text/plain": [
       "<Figure size 720x720 with 1 Axes>"
      ]
     },
     "metadata": {},
     "output_type": "display_data"
    }
   ],
   "source": [
    "# Validation Loss\n",
    "plt.figure(1, figsize=(10,10))\n",
    "plt.plot(results_LSTM.history['val_loss'])\n",
    "plt.plot(results_BiLSTM.history['val_loss'])\n",
    "plt.plot(results_CNN.history['val_loss'])\n",
    "#plt.plot(results4.history['val_loss'])\n",
    "plt.xlabel('epochs', fontsize =13)\n",
    "plt.ylabel('validation loss', fontsize =13)\n",
    "plt.legend(['LSTM', 'BiLSTM', 'CNN'])\n",
    "plt.show()"
   ]
  }
 ],
 "metadata": {
  "kernelspec": {
   "display_name": "Python 3",
   "language": "python",
   "name": "python3"
  },
  "language_info": {
   "codemirror_mode": {
    "name": "ipython",
    "version": 3
   },
   "file_extension": ".py",
   "mimetype": "text/x-python",
   "name": "python",
   "nbconvert_exporter": "python",
   "pygments_lexer": "ipython3",
   "version": "3.6.3"
  }
 },
 "nbformat": 4,
 "nbformat_minor": 2
}
